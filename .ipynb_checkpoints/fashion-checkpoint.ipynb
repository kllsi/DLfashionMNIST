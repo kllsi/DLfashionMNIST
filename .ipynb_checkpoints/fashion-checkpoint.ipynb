{
 "cells": [
  {
   "cell_type": "markdown",
   "metadata": {},
   "source": [
    "<h1>A Computer Vision Multilabel Classification Task Using Fashion MNIST</h1>\n",
    "\n",
    "Exploring a scenario where we need to identify different items of clothing, trained from a dataset containing 10 distinct types.\n",
    "\n",
    "<table align=\"left\">\n",
    "<thead>\n",
    "<tr>\n",
    "<th>Label</th>\n",
    "<th>Description</th>\n",
    "</tr>\n",
    "</thead>\n",
    "<tbody>\n",
    "<tr>\n",
    "<td>0</td>\n",
    "<td>T-shirt/top</td>\n",
    "</tr>\n",
    "<tr>\n",
    "<td>1</td>\n",
    "<td>Trouser</td>\n",
    "</tr>\n",
    "<tr>\n",
    "<td>2</td>\n",
    "<td>Pullover</td>\n",
    "</tr>\n",
    "<tr>\n",
    "<td>3</td>\n",
    "<td>Dress</td>\n",
    "</tr>\n",
    "<tr>\n",
    "<td>4</td>\n",
    "<td>Coat</td>\n",
    "</tr>\n",
    "<tr>\n",
    "<td>5</td>\n",
    "<td>Sandal</td>\n",
    "</tr>\n",
    "<tr>\n",
    "<td>6</td>\n",
    "<td>Shirt</td>\n",
    "</tr>\n",
    "<tr>\n",
    "<td>7</td>\n",
    "<td>Sneaker</td>\n",
    "</tr>\n",
    "<tr>\n",
    "<td>8</td>\n",
    "<td>Bag</td>\n",
    "</tr>\n",
    "<tr>\n",
    "<td>9</td>\n",
    "<td>Ankle boot</td>\n",
    "</tr>\n",
    "</tbody>\n",
    "</table>\n"
   ]
  },
  {
   "cell_type": "code",
   "execution_count": 1,
   "metadata": {},
   "outputs": [],
   "source": [
    "import tensorflow as tf\n",
    "\n",
    "fashionMnist = tf.keras.datasets.fashion_mnist\n",
    "\n",
    "(trainImages, trainLabels), (testImages, testLabels) = fashionMnist.load_data()\n",
    "\n",
    "#load_data() returns two sets of two lists, containing the items and labels from the training and testing sets"
   ]
  },
  {
   "cell_type": "code",
   "execution_count": 2,
   "metadata": {},
   "outputs": [
    {
     "name": "stdout",
     "output_type": "stream",
     "text": [
      "7\n",
      "[[  0   0   0   0   0   0   0   0   0   0   0   0   0   0   0   0   0   0   0   0   0   0   0   0   0   0   0   0]\n",
      " [  0   0   0   0   0   0   0   0   0   0   0   0   0   0   0   0   0   0   0   0   0   0   0   0   0   0   0   0]\n",
      " [  0   0   0   0   0   0   0   0   0   0   0   0   0   0   0   0   0   0   0   0   0   0   0   0   0   0   0   0]\n",
      " [  0   0   0   0   0   0   0   0   0   0   0   0   0   0   0   0   0   0   0   0   0   0   0   0   0   0   0   0]\n",
      " [  0   0   0   0   0   0   0   0   0   0   0   0   0   0   0   0   0   0   0   0   0   0   0   0   0   0   0   0]\n",
      " [  0   0   0   0   0   0   0   0   0   0   0   0   0   0   0   0   0   0   0   0   0   0   0   0   0   0   0   0]\n",
      " [  0   0   0   0   0   0   0   0   0   0   0   0   0   0   0   0   0   0   0   0   0   0   0   0   0   0   0   0]\n",
      " [  0   0   0   0   0   0   0   0   0   0   0   0   0   0   0   0   0   0   0   0   0   0   0   0   0   0   0   0]\n",
      " [  0   0   0   0   0   0   0   0   0   1   1   0   3   1   0   4   0   0   0   2   0   0   0   0   5   1   0   0]\n",
      " [  0   0   0   0   0   0   0   0   0   0   0   0   4   0   0   0   0   0 106 229   0   0   0   0   0   0   0   0]\n",
      " [  0   0   0   0   0   0   0   0   0   0   1   0   0   0   0  90 138 223 214 209 167   0   0   0   6 124   0   0]\n",
      " [  0   0   0   0   0   0   0   0   1   0   0   0  37 122 179 249 214 195 181 213 241   0   0   0  94 179   0   0]\n",
      " [  0   0   0   2   0   6   0   0   0   0  16 149 236 226 201 195 200 204 155 209 116   0  22 109 251  35  51   0]\n",
      " [  0   0   1   3   0   0   0   0  67 150 240 221 194 190 204 214 205 195 207 185 206 233 224 179   2  10  22   0]\n",
      " [  0   0   0   0   0   0 110 214 237 209 196 192 215 215 213 213 207 193 186 199 206 175   0   0 124 230 200  36]\n",
      " [  0  50 119 158 166 192 204 198 187 202 203 211 214 204 209 210 204 197 191 190 191 229 230 242 214 193 203 137]\n",
      " [108 190 199 200 194 199 194 195 199 200 189 187 191 189 197 198 205 200 200 208 213 215 212 213 209 202 216 137]\n",
      " [ 15  55 114 157 188 207 216 220 217 219 221 242 240 243 249 253 255 255 243 232 226 222 221 213 215 198 209  62]\n",
      " [ 16  11   0   0   7  40  76 108 134 142 143 145 143 123 111  92  76  61  45  35  25  25  31  32  32  12   1   0]\n",
      " [  0  11  25  26  26  22  12  20  15  15  18  17  19  27  30  36  41  49  57  66  79  84  79  83  93  80  75  45]\n",
      " [  0   0   0   0   0   9  14  17  27  34  39  39  42  44  41  41  43  48  43  30  31  35  40  37  40  37  26   0]\n",
      " [  0   0   0   0   0   0   0   0   0   0   0   0   0   0   0   0   0   0   0   0   0   0   0   0   0   0   0   0]\n",
      " [  0   0   0   0   0   0   0   0   0   0   0   0   0   0   0   0   0   0   0   0   0   0   0   0   0   0   0   0]\n",
      " [  0   0   0   0   0   0   0   0   0   0   0   0   0   0   0   0   0   0   0   0   0   0   0   0   0   0   0   0]\n",
      " [  0   0   0   0   0   0   0   0   0   0   0   0   0   0   0   0   0   0   0   0   0   0   0   0   0   0   0   0]\n",
      " [  0   0   0   0   0   0   0   0   0   0   0   0   0   0   0   0   0   0   0   0   0   0   0   0   0   0   0   0]\n",
      " [  0   0   0   0   0   0   0   0   0   0   0   0   0   0   0   0   0   0   0   0   0   0   0   0   0   0   0   0]\n",
      " [  0   0   0   0   0   0   0   0   0   0   0   0   0   0   0   0   0   0   0   0   0   0   0   0   0   0   0   0]]\n"
     ]
    },
    {
     "data": {
      "image/png": "[encoded data removed]",
      "text/plain": [
       "<Figure size 432x288 with 1 Axes>"
      ]
     },
     "metadata": {
      "needs_background": "light"
     },
     "output_type": "display_data"
    }
   ],
   "source": [
    "#Let's check out some values from the dataset\n",
    "\n",
    "import numpy as np \n",
    "import matplotlib.pyplot as plt \n",
    "\n",
    "np.set_printoptions(linewidth=200)\n",
    "\n",
    "plt.imshow(trainImages[6])\n",
    "\n",
    "print(trainLabels[6])\n",
    "print(trainImages[6])"
   ]
  },
  {
   "cell_type": "markdown",
   "metadata": {},
   "source": [
    "<h3>Normalization</h3>\n",
    "\n",
    "Taking a look at index 6, we can see that the image is composed by a matrix 28x28 representing pixels from 0 to 255 in grayscale. \n",
    "\n",
    "Neural networks work better with values between 0 and 1, so we should normalize our data before training a model:"
   ]
  },
  {
   "cell_type": "code",
   "execution_count": 3,
   "metadata": {},
   "outputs": [],
   "source": [
    "#Normalize values to the range (0,1)\n",
    "\n",
    "trainImages = trainImages / 255.0\n",
    "testImages = testImages / 255.0"
   ]
  },
  {
   "cell_type": "markdown",
   "metadata": {},
   "source": [
    "<h3>Designing a model</h3>\n",
    "\n",
    "Now We are going to define a 3-layered neural network.\n"
   ]
  },
  {
   "cell_type": "code",
   "execution_count": 4,
   "metadata": {},
   "outputs": [],
   "source": [
    " model = tf.keras.Sequential([\n",
    "        tf.keras.layers.Flatten(input_shape=(28, 28)),\n",
    "        tf.keras.layers.Dense(1024, activation=tf.nn.relu),\n",
    "        tf.keras.layers.Dense(10, activation=tf.nn.softmax)])"
   ]
  },
  {
   "cell_type": "markdown",
   "metadata": {},
   "source": [
    "<b>Flatten</b> is used to flatten the input. For example, if flatten is applied to layer having input shape as (batch_size, 2,2), then the output shape of the layer will be (batch_size, 4).\n",
    "\n",
    "The flatten method takes this 2d array and transforms it into a one dimensional array. Right now our data is 28x28 images, and 28 layers of 28 neurons would be infeasible, so it makes more sense to 'flatten' that 28,28 into a 784x1.\n",
    "\n",
    "<img src=\"files/flatten.png\" width=\"460\">\n",
    "\n",
    "<b>Sequential</b> creates a sequence of layers. The hidden layers uses <b>relu</b> as activation function, which  means <i>\"if X>0 return X, else return 0\"</i>. The third layer has 10 neurons (the n_units argument, or dimensions of the output) because there are 10 classes in the dataset."
   ]
  },
  {
   "cell_type": "markdown",
   "metadata": {},
   "source": [
    "<h3>The Dense layer</h3>\n",
    "<p>The Dense class from Keras is an implementation of the simplest neural network building block: the fully connected layer. A fully connected layer is a dot product between a data matrix and a weights matrix:\n",
    "\n",
    "<i>y = XW</i>\n",
    "\n",
    "The data will have an input shape of (batch_size, n_features) and the weight matrix will have shape (n_features, n_units). The output shape will be (batch_size, n_units).</p>\n",
    "<p>Input shape\n",
    "N-D tensor with shape: (batch_size, ..., input_dim). The most common situation would be a 2D input with shape (batch_size, input_dim).\n",
    "\n",
    "Output shape\n",
    "N-D tensor with shape: (batch_size, ..., units). For instance, for a 2D input with shape (batch_size, input_dim), the output would have shape (batch_size, units).</p>\n",
    "\n",
    "<p><b>Softmax</b> is used as the activation function of the last layer. It takes a set of values, and effectively picks the biggest one, so, for example, if the output of the last layer looks like [0.1, 0.1, 0.05, 0.1, 9.5, 0.1, 0.05, 0.05, 0.05], softmax turns it into [0,0,0,0,1,0,0,0,0].</p>"
   ]
  },
  {
   "cell_type": "code",
   "execution_count": 9,
   "metadata": {},
   "outputs": [
    {
     "name": "stdout",
     "output_type": "stream",
     "text": [
      "Epoch 1/30\n",
      "1875/1875 [==============================] - 12s 6ms/step - loss: 0.2090 - accuracy: 0.9209\n",
      "Epoch 2/30\n",
      "1875/1875 [==============================] - 12s 6ms/step - loss: 0.1991 - accuracy: 0.9253\n",
      "Epoch 3/30\n",
      "1875/1875 [==============================] - 12s 6ms/step - loss: 0.1893 - accuracy: 0.9286\n",
      "Epoch 4/30\n",
      "1875/1875 [==============================] - 12s 6ms/step - loss: 0.1868 - accuracy: 0.9291\n",
      "Epoch 5/30\n",
      "1875/1875 [==============================] - 12s 6ms/step - loss: 0.1777 - accuracy: 0.9336\n",
      "Epoch 6/30\n",
      "1875/1875 [==============================] - 12s 6ms/step - loss: 0.1725 - accuracy: 0.9349\n",
      "Epoch 7/30\n",
      "1875/1875 [==============================] - 12s 6ms/step - loss: 0.1697 - accuracy: 0.9344\n",
      "Epoch 8/30\n",
      "1875/1875 [==============================] - 12s 6ms/step - loss: 0.1645 - accuracy: 0.9373\n",
      "Epoch 9/30\n",
      "1875/1875 [==============================] - 12s 6ms/step - loss: 0.1596 - accuracy: 0.9409\n",
      "\n",
      "Reached 94% accuracy, so cancelling training!\n"
     ]
    },
    {
     "data": {
      "text/plain": [
       "<tensorflow.python.keras.callbacks.History at 0x7eff50a1d100>"
      ]
     },
     "execution_count": 9,
     "metadata": {},
     "output_type": "execute_result"
    }
   ],
   "source": [
    "class myCallback(tf.keras.callbacks.Callback):\n",
    "  def on_epoch_end(self, epoch, logs={}):\n",
    "    if(logs.get('accuracy')>0.94):\n",
    "      print(\"\\nReached 94% accuracy, so cancelling training!\")\n",
    "      self.model.stop_training = True\n",
    "\n",
    "callback = myCallback()\n",
    "        \n",
    "model.compile(\n",
    "    optimizer = tf.optimizers.Adam(),\n",
    "    loss = 'sparse_categorical_crossentropy',\n",
    "    metrics = ['accuracy'])\n",
    "\n",
    "model.fit(trainImages, trainLabels, epochs=30, callbacks=[callback])"
   ]
  },
  {
   "cell_type": "markdown",
   "metadata": {},
   "source": [
    "After training, our neural network shows an accuracy of 94%"
   ]
  },
  {
   "cell_type": "code",
   "execution_count": 6,
   "metadata": {},
   "outputs": [
    {
     "name": "stdout",
     "output_type": "stream",
     "text": [
      "313/313 [==============================] - 1s 3ms/step - loss: 0.3437 - accuracy: 0.8714\n"
     ]
    },
    {
     "data": {
      "text/plain": [
       "[0.34368422627449036, 0.871399998664856]"
      ]
     },
     "execution_count": 6,
     "metadata": {},
     "output_type": "execute_result"
    }
   ],
   "source": [
    "model.evaluate(testImages, testLabels)"
   ]
  },
  {
   "cell_type": "code",
   "execution_count": 10,
   "metadata": {},
   "outputs": [
    {
     "name": "stdout",
     "output_type": "stream",
     "text": [
      "Predicting the category of 10 items from the test set\n",
      "\n",
      "Index 2715:\n"
     ]
    },
    {
     "data": {
      "image/png": "[encoded data removed]",
      "text/plain": [
       "<Figure size 432x288 with 1 Axes>"
      ]
     },
     "metadata": {
      "needs_background": "light"
     },
     "output_type": "display_data"
    },
    {
     "name": "stdout",
     "output_type": "stream",
     "text": [
      "This is a Dress \n",
      "\n",
      "[1.43824063e-05 5.11263598e-14 8.44296650e-08 9.95659530e-01 3.89853446e-03 1.88771069e-12 3.83703707e-04 2.70034238e-11 4.36730479e-05 1.14451625e-11] \n",
      "\n",
      "\n",
      "Index 2716:\n"
     ]
    },
    {
     "data": {
      "image/png": "[encoded data removed]",
      "text/plain": [
       "<Figure size 432x288 with 1 Axes>"
      ]
     },
     "metadata": {
      "needs_background": "light"
     },
     "output_type": "display_data"
    },
    {
     "name": "stdout",
     "output_type": "stream",
     "text": [
      "This is a Sneaker \n",
      "\n",
      "[2.0192372e-09 4.8195332e-12 8.6573614e-13 2.4775992e-10 1.5454117e-09 8.2039433e-03 8.8546483e-11 9.9179584e-01 3.5025927e-08 2.2768070e-07] \n",
      "\n",
      "\n",
      "Index 2717:\n"
     ]
    },
    {
     "data": {
      "image/png": "[encoded data removed]",
      "text/plain": [
       "<Figure size 432x288 with 1 Axes>"
      ]
     },
     "metadata": {
      "needs_background": "light"
     },
     "output_type": "display_data"
    },
    {
     "name": "stdout",
     "output_type": "stream",
     "text": [
      "This is a Shirt \n",
      "\n",
      "[1.3876636e-01 1.3494310e-10 1.4180984e-01 3.6842877e-05 6.5557819e-05 3.8185450e-09 7.1932137e-01 3.1662010e-11 6.6974746e-09 4.5453696e-10] \n",
      "\n",
      "\n",
      "Index 2718:\n"
     ]
    },
    {
     "data": {
      "image/png": "[encoded data removed]",
      "text/plain": [
       "<Figure size 432x288 with 1 Axes>"
      ]
     },
     "metadata": {
      "needs_background": "light"
     },
     "output_type": "display_data"
    },
    {
     "name": "stdout",
     "output_type": "stream",
     "text": [
      "This is a Trouser \n",
      "\n",
      "[3.7752229e-10 1.0000000e+00 5.0127643e-16 1.7327984e-08 2.7861632e-12 1.2238281e-24 1.3123961e-11 1.6510646e-35 4.1066540e-16 5.5942818e-29] \n",
      "\n",
      "\n",
      "Index 2719:\n"
     ]
    },
    {
     "data": {
      "image/png": "[encoded data removed]",
      "text/plain": [
       "<Figure size 432x288 with 1 Axes>"
      ]
     },
     "metadata": {
      "needs_background": "light"
     },
     "output_type": "display_data"
    },
    {
     "name": "stdout",
     "output_type": "stream",
     "text": [
      "This is a Trouser \n",
      "\n",
      "[1.0291352e-19 1.0000000e+00 5.1554073e-28 1.0207195e-15 7.8444524e-23 3.7369101e-32 3.3624894e-21 0.0000000e+00 9.6413722e-23 8.3880892e-36] \n",
      "\n",
      "\n",
      "Index 2720:\n"
     ]
    },
    {
     "data": {
      "image/png": "[encoded data removed]",
      "text/plain": [
       "<Figure size 432x288 with 1 Axes>"
      ]
     },
     "metadata": {
      "needs_background": "light"
     },
     "output_type": "display_data"
    },
    {
     "name": "stdout",
     "output_type": "stream",
     "text": [
      "This is a Bag \n",
      "\n",
      "[7.4514396e-08 2.2403631e-20 4.7163334e-10 6.6053575e-17 1.6803351e-15 1.2133489e-11 1.3358663e-10 3.4148112e-12 9.9999988e-01 3.3470421e-10] \n",
      "\n",
      "\n",
      "Index 2721:\n"
     ]
    },
    {
     "data": {
      "image/png": "[encoded data removed]",
      "text/plain": [
       "<Figure size 432x288 with 1 Axes>"
      ]
     },
     "metadata": {
      "needs_background": "light"
     },
     "output_type": "display_data"
    },
    {
     "name": "stdout",
     "output_type": "stream",
     "text": [
      "This is a Shirt \n",
      "\n",
      "[2.0327979e-01 6.1042857e-07 7.2699098e-04 8.3389884e-04 2.3260438e-03 9.2618517e-09 7.9277372e-01 1.1151944e-14 5.8896298e-05 3.3655606e-08] \n",
      "\n",
      "\n",
      "Index 2722:\n"
     ]
    },
    {
     "data": {
      "image/png": "[encoded data removed]",
      "text/plain": [
       "<Figure size 432x288 with 1 Axes>"
      ]
     },
     "metadata": {
      "needs_background": "light"
     },
     "output_type": "display_data"
    },
    {
     "name": "stdout",
     "output_type": "stream",
     "text": [
      "This is a Pullover \n",
      "\n",
      "[3.7857161e-03 4.4701618e-08 4.8687410e-01 6.4191910e-05 4.7264415e-01 4.2106787e-11 3.6631513e-02 7.9269436e-13 2.9765502e-07 1.9682935e-09] \n",
      "\n",
      "\n",
      "Index 2723:\n"
     ]
    },
    {
     "data": {
      "image/png": "[encoded data removed]",
      "text/plain": [
       "<Figure size 432x288 with 1 Axes>"
      ]
     },
     "metadata": {
      "needs_background": "light"
     },
     "output_type": "display_data"
    },
    {
     "name": "stdout",
     "output_type": "stream",
     "text": [
      "This is a T-shirt \n",
      "\n",
      "[9.9999142e-01 6.1060276e-21 9.2960134e-13 1.7831923e-06 4.5458859e-14 1.9112622e-25 6.7503570e-06 0.0000000e+00 3.7339533e-19 4.1662135e-32] \n",
      "\n",
      "\n",
      "Index 2724:\n"
     ]
    },
    {
     "data": {
      "image/png": "[encoded data removed]",
      "text/plain": [
       "<Figure size 432x288 with 1 Axes>"
      ]
     },
     "metadata": {
      "needs_background": "light"
     },
     "output_type": "display_data"
    },
    {
     "name": "stdout",
     "output_type": "stream",
     "text": [
      "This is a Sandal \n",
      "\n",
      "[1.2164995e-35 0.0000000e+00 2.6092451e-37 0.0000000e+00 0.0000000e+00 1.0000000e+00 9.1394872e-38 1.8940587e-29 5.6397820e-33 1.9380200e-30] \n",
      "\n"
     ]
    }
   ],
   "source": [
    "import random\n",
    "\n",
    "classPredictions = model.predict(testImages)\n",
    "\n",
    "clothing = ['T-shirt', 'Trouser', 'Pullover', 'Dress', 'Coat', 'Sandal', 'Shirt', 'Sneaker', 'Bag', 'Ankle boot']\n",
    "\n",
    "#returns the index of the highest value in a list\n",
    "def getMax(l):\n",
    "    maxVal = max(l)\n",
    "    maxIndex = l.index(maxVal)\n",
    "    return maxIndex\n",
    "\n",
    "\n",
    "def showSamplePred():\n",
    "    n = random.randint(0,9989) #gets a random index from the set\n",
    "\n",
    "    print(\"Predicting the category of 10 items from the test set\")\n",
    "\n",
    "    for i in range(n,n+10):\n",
    "        print(\"\\nIndex {:d}:\".format(i))\n",
    "        plt.imshow(testImages[i])\n",
    "        plt.pause(0.05)\n",
    "\n",
    "        result = getMax(list(classPredictions[i]))\n",
    "        print(\"This is a\", clothing[result], \"\\n\")\n",
    "\n",
    "        print(classPredictions[i], \"\\n\")   \n",
    "\n",
    "showSamplePred()"
   ]
  },
  {
   "cell_type": "markdown",
   "metadata": {},
   "source": [
    "The numbers in these lists represent the respective probabilities of belonging to each one of the classes of clothing. The highest value indicates the class predicted by the neural network."
   ]
  },
  {
   "cell_type": "code",
   "execution_count": null,
   "metadata": {},
   "outputs": [],
   "source": []
  }
 ],
 "metadata": {
  "kernelspec": {
   "display_name": "Python 3",
   "language": "python",
   "name": "python3"
  },
  "language_info": {
   "codemirror_mode": {
    "name": "ipython",
    "version": 3
   },
   "file_extension": ".py",
   "mimetype": "text/x-python",
   "name": "python",
   "nbconvert_exporter": "python",
   "pygments_lexer": "ipython3",
   "version": "3.9.2"
  }
 },
 "nbformat": 4,
 "nbformat_minor": 2
}
